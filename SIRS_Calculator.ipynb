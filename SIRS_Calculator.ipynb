{
  "nbformat": 4,
  "nbformat_minor": 0,
  "metadata": {
    "colab": {
      "provenance": [],
      "collapsed_sections": [],
      "authorship_tag": "ABX9TyOGOzjZuqAvoE4ZGr4G4HXJ",
      "include_colab_link": true
    },
    "kernelspec": {
      "name": "python3",
      "display_name": "Python 3"
    },
    "language_info": {
      "name": "python"
    }
  },
  "cells": [
    {
      "cell_type": "markdown",
      "metadata": {
        "id": "view-in-github",
        "colab_type": "text"
      },
      "source": [
        "<a href=\"https://colab.research.google.com/github/Iqmaa/SIRS-Calculator/blob/main/SIRS_Calculator.ipynb\" target=\"_parent\"><img src=\"https://colab.research.google.com/assets/colab-badge.svg\" alt=\"Open In Colab\"/></a>"
      ]
    },
    {
      "cell_type": "code",
      "execution_count": 1,
      "metadata": {
        "colab": {
          "base_uri": "https://localhost:8080/"
        },
        "id": "UHz1Q4Pt6rD2",
        "outputId": "b8e60fca-5700-497a-865f-00a1af92df21"
      },
      "outputs": [
        {
          "output_type": "stream",
          "name": "stdout",
          "text": [
            "welcome to the SIRS calculator\n"
          ]
        }
      ],
      "source": [
        "print(\"welcome to the SIRS calculator!\")"
      ]
    },
    {
      "cell_type": "code",
      "source": [
        "SIRS_score = 0"
      ],
      "metadata": {
        "id": "afXIwnPv61SI"
      },
      "execution_count": 21,
      "outputs": []
    },
    {
      "cell_type": "markdown",
      "source": [
        "## Temperature"
      ],
      "metadata": {
        "id": "V1M09oqw7CEO"
      }
    },
    {
      "cell_type": "code",
      "source": [
        "while True:\n",
        "    temp = input(\"what is the patient's temperature? \")\n",
        "    try:\n",
        "      temp = float(temp)\n",
        "    except ValueError:\n",
        "      print(\"please enter a valid number \")\n",
        "      continue\n",
        "    else:\n",
        "      break"
      ],
      "metadata": {
        "colab": {
          "base_uri": "https://localhost:8080/"
        },
        "id": "0BF33vM97Dwg",
        "outputId": "a1211ff0-d045-4780-acfe-d86cab63d474"
      },
      "execution_count": 46,
      "outputs": [
        {
          "name": "stdout",
          "output_type": "stream",
          "text": [
            "what is the patient's temperature? 2\n"
          ]
        }
      ]
    },
    {
      "cell_type": "code",
      "source": [
        "print(\"the temperature is \", temp)\n",
        "\n",
        "if temp > 37.5 or temp < 36.5:\n",
        "  SIRS_score += 1\n",
        "  print(\"Points; \", SIRS_score)\n",
        "else:\n",
        "  print(\"Temperature is normal.\")\n",
        "  print(\"Points: \", SIRS_score)\n",
        "\n",
        "# if  36.5 > temp < 37.5:\n",
        "\n",
        "\n"
      ],
      "metadata": {
        "colab": {
          "base_uri": "https://localhost:8080/"
        },
        "id": "7RLamyS27I41",
        "outputId": "94f9dbd6-8eb5-4cb2-e269-383f48a177ce"
      },
      "execution_count": 22,
      "outputs": [
        {
          "output_type": "stream",
          "name": "stdout",
          "text": [
            "the temperature is  3.0\n",
            "Points;  1\n"
          ]
        }
      ]
    },
    {
      "cell_type": "markdown",
      "source": [
        "## Respiratory rate"
      ],
      "metadata": {
        "id": "436DW3ONFsc3"
      }
    },
    {
      "cell_type": "code",
      "source": [
        "while True:\n",
        "    respRate = input(\"what is the patient's temperature? \")\n",
        "    try:\n",
        "      respRate = int(respRate)\n",
        "    except ValueError:\n",
        "      print(\"please enter a valid whole number \")\n",
        "      continue\n",
        "    else:\n",
        "      break\n",
        "\n",
        "while True:\n",
        "    paCO2 = input(\"what is the patient's paCO2 \")\n",
        "    try:\n",
        "      paCO2 = int(paCO2)\n",
        "    except ValueError:\n",
        "      print(\"please enter a valid whole number \")\n",
        "      continue\n",
        "    else:\n",
        "      break"
      ],
      "metadata": {
        "colab": {
          "base_uri": "https://localhost:8080/"
        },
        "outputId": "b8c927bd-96ee-4d5b-9333-b76bfa866958",
        "id": "OugvK6MAFvmk"
      },
      "execution_count": 49,
      "outputs": [
        {
          "name": "stdout",
          "output_type": "stream",
          "text": [
            "what is the patient's temperature? 2\n",
            "what is the patient's paCO2 35\n"
          ]
        }
      ]
    },
    {
      "cell_type": "code",
      "source": [
        "print(\"the respiratory rate is \", respRate, \"and the paCO2 is\", paCO2)\n",
        "\n",
        "if respRate > 20 or temp < 32:\n",
        "  SIRS_score += 1\n",
        "  print(\"Points: \", SIRS_score)\n",
        "else:\n",
        "  print(\"the respiratory rate and paCO2 is normal.\")\n",
        "  print(\"Points: \", SIRS_score)\n",
        "\n",
        "# if  36.5 > temp < 37.5:\n",
        "\n",
        "\n"
      ],
      "metadata": {
        "colab": {
          "base_uri": "https://localhost:8080/"
        },
        "outputId": "eac37fe7-ddd9-4ea1-bb5e-af071aaab3ce",
        "id": "0BYwP4ckFnur"
      },
      "execution_count": 50,
      "outputs": [
        {
          "output_type": "stream",
          "name": "stdout",
          "text": [
            "the respiratory rate is  2 and the paCO2 is 35\n",
            "Points;  2\n"
          ]
        }
      ]
    },
    {
      "cell_type": "markdown",
      "source": [],
      "metadata": {
        "id": "E0MCqAX8HZk9"
      }
    },
    {
      "cell_type": "markdown",
      "source": [
        "##  Heart rate"
      ],
      "metadata": {
        "id": "jsL6Uk0sHnJx"
      }
    },
    {
      "cell_type": "code",
      "source": [
        "while True:\n",
        "    heartRate = input(\"what is the patient's heart rate? \")\n",
        "    try:\n",
        "      heartRate = int(heartRate)\n",
        "    except ValueError:\n",
        "      print(\"please enter a valid number \")\n",
        "      continue\n",
        "    else:\n",
        "      break"
      ],
      "metadata": {
        "colab": {
          "base_uri": "https://localhost:8080/"
        },
        "outputId": "740ab5f0-d404-4986-ea3e-a0bf8b177400",
        "id": "3svVouQaHaFi"
      },
      "execution_count": 54,
      "outputs": [
        {
          "name": "stdout",
          "output_type": "stream",
          "text": [
            "what is the patient's heart rate? 3\n"
          ]
        }
      ]
    },
    {
      "cell_type": "code",
      "source": [
        "print(\"the heartRate is \", heartRate)\n",
        "\n",
        "if heartRate > 90:\n",
        "  SIRS_score += 1\n",
        "  print(\"Points; \", SIRS_score)\n",
        "else:\n",
        "  print(\"heartRate is normal.\")\n",
        "  print(\"Points: \", SIRS_score)\n",
        "\n",
        "# if  36.5 > temp < 37.5:\n",
        "\n",
        "\n"
      ],
      "metadata": {
        "colab": {
          "base_uri": "https://localhost:8080/"
        },
        "outputId": "5eab6d3e-5e7b-4216-9596-b88355d69241",
        "id": "-9X8brSWHv0p"
      },
      "execution_count": 55,
      "outputs": [
        {
          "output_type": "stream",
          "name": "stdout",
          "text": [
            "the heartRate is  3\n",
            "heartRate is normal.\n",
            "Points:  2\n"
          ]
        }
      ]
    },
    {
      "cell_type": "markdown",
      "source": [
        "## White cell count"
      ],
      "metadata": {
        "id": "xtCOJTLAH4Df"
      }
    },
    {
      "cell_type": "code",
      "source": [
        "while True:\n",
        "    wcc = input(\"what is the patient's white cell count? (x10^9/L)\")\n",
        "    try:\n",
        "      wcc = float(wcc)\n",
        "    except ValueError:\n",
        "      print(\"please enter a valid number \")\n",
        "      continue\n",
        "    else:\n",
        "      break"
      ],
      "metadata": {
        "colab": {
          "base_uri": "https://localhost:8080/"
        },
        "outputId": "61a93c98-5580-44cb-f0d8-5705833227b5",
        "id": "1eIfQOVYH1KF"
      },
      "execution_count": 56,
      "outputs": [
        {
          "name": "stdout",
          "output_type": "stream",
          "text": [
            "what is the patient's white cell count? (x10^9/L)3\n"
          ]
        }
      ]
    },
    {
      "cell_type": "code",
      "source": [
        "print(\"the temperature is \", wcc, \"x10^9/L\")\n",
        "\n",
        "if wcc > 12 or wcc < 4:\n",
        "  SIRS_score += 1\n",
        "  print(\"Points; \", SIRS_score)\n",
        "else:\n",
        "  print(\"white cell count is normal.\")\n",
        "  print(\"Points: \", SIRS_score)\n",
        "\n",
        "# if  36.5 > temp < 37.5:\n",
        "\n",
        "\n"
      ],
      "metadata": {
        "colab": {
          "base_uri": "https://localhost:8080/"
        },
        "outputId": "4c31232e-9fb8-4519-b98d-f7c350262e08",
        "id": "SyvYU_ASHx74"
      },
      "execution_count": 57,
      "outputs": [
        {
          "output_type": "stream",
          "name": "stdout",
          "text": [
            "the temperature is  3.0 x10^9/L\n",
            "Points;  3\n"
          ]
        }
      ]
    },
    {
      "cell_type": "markdown",
      "source": [
        "## Report final score"
      ],
      "metadata": {
        "id": "gbVVIT41JOrc"
      }
    },
    {
      "cell_type": "code",
      "source": [
        "print(\"the total SIRS score is \", SIRS_score)\n",
        "\n",
        "if SIRS_score >= 2 :\n",
        "  print(\"the criteria for SIRS are met. the patient has SIRS\")\n",
        "else:\n",
        "  print(\"the criteria for SIRS are not met. the patient does not have SIRS\")"
      ],
      "metadata": {
        "colab": {
          "base_uri": "https://localhost:8080/"
        },
        "id": "C5ZdjMeEJKXs",
        "outputId": "5631b856-265e-4ae3-d2a2-367771309343"
      },
      "execution_count": 58,
      "outputs": [
        {
          "output_type": "stream",
          "name": "stdout",
          "text": [
            "the total SIRS score is  3\n",
            "the criteria for SIRS are met. the patient has SIRS\n"
          ]
        }
      ]
    }
  ]
}